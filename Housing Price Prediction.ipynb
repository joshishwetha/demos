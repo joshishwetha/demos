{
 "cells": [
  {
   "cell_type": "markdown",
   "metadata": {},
   "source": [
    "# Predicting House prices\n",
    "\n",
    "Ask a home buyer to describe their dream house, and they probably won't begin with the height of the basement ceiling or the proximity to an east-west railroad. But this playground competition's dataset proves that much more influences price negotiations than the number of bedrooms or a white-picket fence.\n",
    "\n",
    "With 79 explanatory variables describing (almost) every aspect of residential homes in Ames, Iowa, this competition challenges you to predict the final price of each home.\n"
   ]
  },
  {
   "cell_type": "code",
   "execution_count": 1,
   "metadata": {},
   "outputs": [
    {
     "name": "stdout",
     "output_type": "stream",
     "text": [
      "Sending resource request metrics to Clusterman for Spark cluster provisioning\n",
      "Spark monitoring URL http://dev31-uswest1adevc.dev.yelpcorp.com:48931\n"
     ]
    }
   ],
   "source": [
    "from spark_tools import paasta\n",
    "# use Spark options from the spark-run command line, but override cluster\n",
    "spark=paasta.create_spark_session({\n",
    "    'spark.master':paasta.find_spark_master('pnw-devc'),\n",
    "    'spark.mesos.constraints':'pool:batch',\n",
    "    'spark.cores.max': 32,\n",
    "    'spark.executor.memory':'16g',\n",
    "    'spark.executor.cores': 2,\n",
    "})"
   ]
  },
  {
   "cell_type": "markdown",
   "metadata": {},
   "source": [
    "### Make all the necessary imports"
   ]
  },
  {
   "cell_type": "code",
   "execution_count": 2,
   "metadata": {},
   "outputs": [],
   "source": [
    "import pandas as pd\n",
    "import matplotlib.pyplot as plt\n",
    "\n",
    "%matplotlib inline\n",
    "plt.style.use('ggplot')"
   ]
  },
  {
   "cell_type": "markdown",
   "metadata": {},
   "source": [
    "## Read data"
   ]
  },
  {
   "cell_type": "code",
   "execution_count": 76,
   "metadata": {},
   "outputs": [],
   "source": [
    "df = pd.read_csv('train.csv')"
   ]
  },
  {
   "cell_type": "markdown",
   "metadata": {},
   "source": [
    "### Inspect data\n",
    "- Look at data-types\n",
    "- Check for NULLs\n",
    "- Think about how to represent data to the model, remember that models only understand numbers"
   ]
  },
  {
   "cell_type": "code",
   "execution_count": 77,
   "metadata": {},
   "outputs": [
    {
     "data": {
      "text/plain": [
       "Id                 int64\n",
       "MSSubClass         int64\n",
       "MSZoning          object\n",
       "LotFrontage      float64\n",
       "LotArea            int64\n",
       "Street            object\n",
       "Alley             object\n",
       "LotShape          object\n",
       "LandContour       object\n",
       "Utilities         object\n",
       "LotConfig         object\n",
       "LandSlope         object\n",
       "Neighborhood      object\n",
       "Condition1        object\n",
       "Condition2        object\n",
       "BldgType          object\n",
       "HouseStyle        object\n",
       "OverallQual        int64\n",
       "OverallCond        int64\n",
       "YearBuilt          int64\n",
       "YearRemodAdd       int64\n",
       "RoofStyle         object\n",
       "RoofMatl          object\n",
       "Exterior1st       object\n",
       "Exterior2nd       object\n",
       "MasVnrType        object\n",
       "MasVnrArea       float64\n",
       "ExterQual         object\n",
       "ExterCond         object\n",
       "Foundation        object\n",
       "                  ...   \n",
       "BedroomAbvGr       int64\n",
       "KitchenAbvGr       int64\n",
       "KitchenQual       object\n",
       "TotRmsAbvGrd       int64\n",
       "Functional        object\n",
       "Fireplaces         int64\n",
       "FireplaceQu       object\n",
       "GarageType        object\n",
       "GarageYrBlt      float64\n",
       "GarageFinish      object\n",
       "GarageCars         int64\n",
       "GarageArea         int64\n",
       "GarageQual        object\n",
       "GarageCond        object\n",
       "PavedDrive        object\n",
       "WoodDeckSF         int64\n",
       "OpenPorchSF        int64\n",
       "EnclosedPorch      int64\n",
       "3SsnPorch          int64\n",
       "ScreenPorch        int64\n",
       "PoolArea           int64\n",
       "PoolQC            object\n",
       "Fence             object\n",
       "MiscFeature       object\n",
       "MiscVal            int64\n",
       "MoSold             int64\n",
       "YrSold             int64\n",
       "SaleType          object\n",
       "SaleCondition     object\n",
       "SalePrice          int64\n",
       "Length: 81, dtype: object"
      ]
     },
     "execution_count": 77,
     "metadata": {},
     "output_type": "execute_result"
    }
   ],
   "source": [
    "df.dtypes"
   ]
  },
  {
   "cell_type": "code",
   "execution_count": 78,
   "metadata": {},
   "outputs": [
    {
     "data": {
      "text/html": [
       "<div>\n",
       "<style scoped>\n",
       "    .dataframe tbody tr th:only-of-type {\n",
       "        vertical-align: middle;\n",
       "    }\n",
       "\n",
       "    .dataframe tbody tr th {\n",
       "        vertical-align: top;\n",
       "    }\n",
       "\n",
       "    .dataframe thead th {\n",
       "        text-align: right;\n",
       "    }\n",
       "</style>\n",
       "<table border=\"1\" class=\"dataframe\">\n",
       "  <thead>\n",
       "    <tr style=\"text-align: right;\">\n",
       "      <th></th>\n",
       "      <th>Id</th>\n",
       "      <th>MSSubClass</th>\n",
       "      <th>MSZoning</th>\n",
       "      <th>LotFrontage</th>\n",
       "      <th>LotArea</th>\n",
       "      <th>Street</th>\n",
       "      <th>Alley</th>\n",
       "      <th>LotShape</th>\n",
       "      <th>LandContour</th>\n",
       "      <th>Utilities</th>\n",
       "      <th>...</th>\n",
       "      <th>PoolArea</th>\n",
       "      <th>PoolQC</th>\n",
       "      <th>Fence</th>\n",
       "      <th>MiscFeature</th>\n",
       "      <th>MiscVal</th>\n",
       "      <th>MoSold</th>\n",
       "      <th>YrSold</th>\n",
       "      <th>SaleType</th>\n",
       "      <th>SaleCondition</th>\n",
       "      <th>SalePrice</th>\n",
       "    </tr>\n",
       "  </thead>\n",
       "  <tbody>\n",
       "    <tr>\n",
       "      <th>0</th>\n",
       "      <td>1</td>\n",
       "      <td>60</td>\n",
       "      <td>RL</td>\n",
       "      <td>65.0</td>\n",
       "      <td>8450</td>\n",
       "      <td>Pave</td>\n",
       "      <td>NaN</td>\n",
       "      <td>Reg</td>\n",
       "      <td>Lvl</td>\n",
       "      <td>AllPub</td>\n",
       "      <td>...</td>\n",
       "      <td>0</td>\n",
       "      <td>NaN</td>\n",
       "      <td>NaN</td>\n",
       "      <td>NaN</td>\n",
       "      <td>0</td>\n",
       "      <td>2</td>\n",
       "      <td>2008</td>\n",
       "      <td>WD</td>\n",
       "      <td>Normal</td>\n",
       "      <td>208500</td>\n",
       "    </tr>\n",
       "    <tr>\n",
       "      <th>1</th>\n",
       "      <td>2</td>\n",
       "      <td>20</td>\n",
       "      <td>RL</td>\n",
       "      <td>80.0</td>\n",
       "      <td>9600</td>\n",
       "      <td>Pave</td>\n",
       "      <td>NaN</td>\n",
       "      <td>Reg</td>\n",
       "      <td>Lvl</td>\n",
       "      <td>AllPub</td>\n",
       "      <td>...</td>\n",
       "      <td>0</td>\n",
       "      <td>NaN</td>\n",
       "      <td>NaN</td>\n",
       "      <td>NaN</td>\n",
       "      <td>0</td>\n",
       "      <td>5</td>\n",
       "      <td>2007</td>\n",
       "      <td>WD</td>\n",
       "      <td>Normal</td>\n",
       "      <td>181500</td>\n",
       "    </tr>\n",
       "    <tr>\n",
       "      <th>2</th>\n",
       "      <td>3</td>\n",
       "      <td>60</td>\n",
       "      <td>RL</td>\n",
       "      <td>68.0</td>\n",
       "      <td>11250</td>\n",
       "      <td>Pave</td>\n",
       "      <td>NaN</td>\n",
       "      <td>IR1</td>\n",
       "      <td>Lvl</td>\n",
       "      <td>AllPub</td>\n",
       "      <td>...</td>\n",
       "      <td>0</td>\n",
       "      <td>NaN</td>\n",
       "      <td>NaN</td>\n",
       "      <td>NaN</td>\n",
       "      <td>0</td>\n",
       "      <td>9</td>\n",
       "      <td>2008</td>\n",
       "      <td>WD</td>\n",
       "      <td>Normal</td>\n",
       "      <td>223500</td>\n",
       "    </tr>\n",
       "  </tbody>\n",
       "</table>\n",
       "<p>3 rows × 81 columns</p>\n",
       "</div>"
      ],
      "text/plain": [
       "   Id  MSSubClass MSZoning  LotFrontage  LotArea Street Alley LotShape  \\\n",
       "0   1          60       RL         65.0     8450   Pave   NaN      Reg   \n",
       "1   2          20       RL         80.0     9600   Pave   NaN      Reg   \n",
       "2   3          60       RL         68.0    11250   Pave   NaN      IR1   \n",
       "\n",
       "  LandContour Utilities    ...     PoolArea PoolQC Fence MiscFeature MiscVal  \\\n",
       "0         Lvl    AllPub    ...            0    NaN   NaN         NaN       0   \n",
       "1         Lvl    AllPub    ...            0    NaN   NaN         NaN       0   \n",
       "2         Lvl    AllPub    ...            0    NaN   NaN         NaN       0   \n",
       "\n",
       "  MoSold YrSold  SaleType  SaleCondition  SalePrice  \n",
       "0      2   2008        WD         Normal     208500  \n",
       "1      5   2007        WD         Normal     181500  \n",
       "2      9   2008        WD         Normal     223500  \n",
       "\n",
       "[3 rows x 81 columns]"
      ]
     },
     "execution_count": 78,
     "metadata": {},
     "output_type": "execute_result"
    }
   ],
   "source": [
    "df.head(3)"
   ]
  },
  {
   "cell_type": "markdown",
   "metadata": {},
   "source": [
    "## Feature imputation\n",
    "- What is this?\n",
    "  Provide meaningful values to replace missing values\n",
    "  \n",
    "### Common Ways\n",
    "- Replacing all NULLs with 0 (only use for numeric columns)\n",
    "- For categorical etc, use backfill/ padding/ or a separate value to indicate absence if you want to capture that value"
   ]
  },
  {
   "cell_type": "code",
   "execution_count": 79,
   "metadata": {},
   "outputs": [],
   "source": [
    "data_types = df.dtypes.to_dict()\n",
    "for col in df:\n",
    "    if data_types[col] == 'int64':\n",
    "        df[col] = df[col].fillna(0)\n",
    "        df[col] = df[col].astype('float64')\n",
    "    else:\n",
    "        df[col] = df[col].fillna(value='No')\n",
    "        df[col] = df[col].astype('str')"
   ]
  },
  {
   "cell_type": "code",
   "execution_count": 80,
   "metadata": {},
   "outputs": [
    {
     "data": {
      "text/html": [
       "<div>\n",
       "<style scoped>\n",
       "    .dataframe tbody tr th:only-of-type {\n",
       "        vertical-align: middle;\n",
       "    }\n",
       "\n",
       "    .dataframe tbody tr th {\n",
       "        vertical-align: top;\n",
       "    }\n",
       "\n",
       "    .dataframe thead th {\n",
       "        text-align: right;\n",
       "    }\n",
       "</style>\n",
       "<table border=\"1\" class=\"dataframe\">\n",
       "  <thead>\n",
       "    <tr style=\"text-align: right;\">\n",
       "      <th></th>\n",
       "      <th>Id</th>\n",
       "      <th>MSSubClass</th>\n",
       "      <th>MSZoning</th>\n",
       "      <th>LotFrontage</th>\n",
       "      <th>LotArea</th>\n",
       "      <th>Street</th>\n",
       "      <th>Alley</th>\n",
       "      <th>LotShape</th>\n",
       "      <th>LandContour</th>\n",
       "      <th>Utilities</th>\n",
       "      <th>...</th>\n",
       "      <th>PoolArea</th>\n",
       "      <th>PoolQC</th>\n",
       "      <th>Fence</th>\n",
       "      <th>MiscFeature</th>\n",
       "      <th>MiscVal</th>\n",
       "      <th>MoSold</th>\n",
       "      <th>YrSold</th>\n",
       "      <th>SaleType</th>\n",
       "      <th>SaleCondition</th>\n",
       "      <th>SalePrice</th>\n",
       "    </tr>\n",
       "  </thead>\n",
       "  <tbody>\n",
       "    <tr>\n",
       "      <th>0</th>\n",
       "      <td>1.0</td>\n",
       "      <td>60.0</td>\n",
       "      <td>RL</td>\n",
       "      <td>65.0</td>\n",
       "      <td>8450.0</td>\n",
       "      <td>Pave</td>\n",
       "      <td>No</td>\n",
       "      <td>Reg</td>\n",
       "      <td>Lvl</td>\n",
       "      <td>AllPub</td>\n",
       "      <td>...</td>\n",
       "      <td>0.0</td>\n",
       "      <td>No</td>\n",
       "      <td>No</td>\n",
       "      <td>No</td>\n",
       "      <td>0.0</td>\n",
       "      <td>2.0</td>\n",
       "      <td>2008.0</td>\n",
       "      <td>WD</td>\n",
       "      <td>Normal</td>\n",
       "      <td>208500.0</td>\n",
       "    </tr>\n",
       "    <tr>\n",
       "      <th>1</th>\n",
       "      <td>2.0</td>\n",
       "      <td>20.0</td>\n",
       "      <td>RL</td>\n",
       "      <td>80.0</td>\n",
       "      <td>9600.0</td>\n",
       "      <td>Pave</td>\n",
       "      <td>No</td>\n",
       "      <td>Reg</td>\n",
       "      <td>Lvl</td>\n",
       "      <td>AllPub</td>\n",
       "      <td>...</td>\n",
       "      <td>0.0</td>\n",
       "      <td>No</td>\n",
       "      <td>No</td>\n",
       "      <td>No</td>\n",
       "      <td>0.0</td>\n",
       "      <td>5.0</td>\n",
       "      <td>2007.0</td>\n",
       "      <td>WD</td>\n",
       "      <td>Normal</td>\n",
       "      <td>181500.0</td>\n",
       "    </tr>\n",
       "    <tr>\n",
       "      <th>2</th>\n",
       "      <td>3.0</td>\n",
       "      <td>60.0</td>\n",
       "      <td>RL</td>\n",
       "      <td>68.0</td>\n",
       "      <td>11250.0</td>\n",
       "      <td>Pave</td>\n",
       "      <td>No</td>\n",
       "      <td>IR1</td>\n",
       "      <td>Lvl</td>\n",
       "      <td>AllPub</td>\n",
       "      <td>...</td>\n",
       "      <td>0.0</td>\n",
       "      <td>No</td>\n",
       "      <td>No</td>\n",
       "      <td>No</td>\n",
       "      <td>0.0</td>\n",
       "      <td>9.0</td>\n",
       "      <td>2008.0</td>\n",
       "      <td>WD</td>\n",
       "      <td>Normal</td>\n",
       "      <td>223500.0</td>\n",
       "    </tr>\n",
       "  </tbody>\n",
       "</table>\n",
       "<p>3 rows × 81 columns</p>\n",
       "</div>"
      ],
      "text/plain": [
       "    Id  MSSubClass MSZoning LotFrontage  LotArea Street Alley LotShape  \\\n",
       "0  1.0        60.0       RL        65.0   8450.0   Pave    No      Reg   \n",
       "1  2.0        20.0       RL        80.0   9600.0   Pave    No      Reg   \n",
       "2  3.0        60.0       RL        68.0  11250.0   Pave    No      IR1   \n",
       "\n",
       "  LandContour Utilities    ...     PoolArea PoolQC Fence MiscFeature MiscVal  \\\n",
       "0         Lvl    AllPub    ...          0.0     No    No          No     0.0   \n",
       "1         Lvl    AllPub    ...          0.0     No    No          No     0.0   \n",
       "2         Lvl    AllPub    ...          0.0     No    No          No     0.0   \n",
       "\n",
       "  MoSold  YrSold  SaleType  SaleCondition  SalePrice  \n",
       "0    2.0  2008.0        WD         Normal   208500.0  \n",
       "1    5.0  2007.0        WD         Normal   181500.0  \n",
       "2    9.0  2008.0        WD         Normal   223500.0  \n",
       "\n",
       "[3 rows x 81 columns]"
      ]
     },
     "execution_count": 80,
     "metadata": {},
     "output_type": "execute_result"
    }
   ],
   "source": [
    "df.head(3)"
   ]
  },
  {
   "cell_type": "markdown",
   "metadata": {},
   "source": [
    "## Convert data into a tooling of your choice"
   ]
  },
  {
   "cell_type": "code",
   "execution_count": 81,
   "metadata": {},
   "outputs": [],
   "source": [
    "spark_df = spark.createDataFrame(df)"
   ]
  },
  {
   "cell_type": "markdown",
   "metadata": {},
   "source": [
    "### Gather features for EDA"
   ]
  },
  {
   "cell_type": "code",
   "execution_count": 82,
   "metadata": {},
   "outputs": [],
   "source": [
    "features = [col for col in spark_df.columns if col not in ['Id','SalePrice','is_train']]\n",
    "label = 'SalePrice'"
   ]
  },
  {
   "cell_type": "markdown",
   "metadata": {},
   "source": [
    "## Lack of domain expertise may lead to engineering features differently\n",
    "For ex: I dont know what different materials for roof are better for which type of neighbourhood, if I did, I would have introduced some of my domain knowledge, but I am not an expert in real-estate here, so I end up shoving everything into the model"
   ]
  },
  {
   "cell_type": "code",
   "execution_count": 83,
   "metadata": {},
   "outputs": [],
   "source": [
    "# special cases\n",
    "# the below will now become a continous feature\n",
    "spark_df = spark_df.withColumn('years_since_remodel', spark_df['YearRemodAdd']-spark_df['YearBuilt'])"
   ]
  },
  {
   "cell_type": "code",
   "execution_count": 84,
   "metadata": {},
   "outputs": [],
   "source": [
    "cat_vars = [\n",
    "    'MSSubClass','MSZoning','Street','Alley','LotShape','LandContour','LotConfig','LandSlope',\n",
    "    'Neighborhood', 'Condition1', 'Condition2','BldgType','HouseStyle', 'RoofStyle', 'RoofMatl', 'Exterior1st', 'Exterior2nd',\n",
    "    'MasVnrType','Foundation','Heating','Electrical','GarageType'] # order does not matter\n",
    "ordinal_vars = ['Utilities','ExterQual', 'ExterCond','BsmtQual','BsmtExposure', 'BsmtFinType1','BsmtFinType2',\n",
    "               'HeatingQC','CentralAir','Functional','KitchenQual','FireplaceQu','GarageFinish',\n",
    "                'GarageCond', 'PavedDrive','PoolQC', 'Fence', 'MiscFeature','SaleType', 'SaleCondition','BsmtCond'] # where order matters\n",
    "ordinal_vars_already_converted = [ 'OverallQual', 'OverallCond'] # no need to convert these\n",
    "cyclical_vars = ['YearBuilt','MoSold', 'YrSold'] # time-based features"
   ]
  },
  {
   "cell_type": "code",
   "execution_count": 85,
   "metadata": {},
   "outputs": [
    {
     "name": "stdout",
     "output_type": "stream",
     "text": [
      "+---------+------+------+\n",
      "|YearBuilt|MoSold|YrSold|\n",
      "+---------+------+------+\n",
      "|   2003.0|   2.0|2008.0|\n",
      "|   1976.0|   5.0|2007.0|\n",
      "|   2001.0|   9.0|2008.0|\n",
      "+---------+------+------+\n",
      "only showing top 3 rows\n",
      "\n"
     ]
    }
   ],
   "source": [
    "spark_df.select(cyclical_vars).show(3)"
   ]
  },
  {
   "cell_type": "markdown",
   "metadata": {},
   "source": [
    "### Transform ordinal features\n",
    "Assign numbers --> each value in ordinal features column"
   ]
  },
  {
   "cell_type": "code",
   "execution_count": 86,
   "metadata": {},
   "outputs": [],
   "source": [
    "from pyspark.ml.pipeline import Pipeline\n",
    "from pyspark.ml.feature import StringIndexer\n",
    "from pyspark.ml.feature import OneHotEncoder"
   ]
  },
  {
   "cell_type": "markdown",
   "metadata": {},
   "source": [
    "### Ordinal transforms"
   ]
  },
  {
   "cell_type": "code",
   "execution_count": 87,
   "metadata": {},
   "outputs": [],
   "source": [
    "indexers = [\n",
    "    StringIndexer(inputCol=ordinal_var, outputCol=ordinal_var+'_indexed')\n",
    "    for ordinal_var in ordinal_vars\n",
    "]\n",
    "pipeline = Pipeline(stages=indexers)\n",
    "df_indexed = pipeline.fit(spark_df).transform(spark_df)\n",
    "\n",
    "transformed_ordinal_vars = [ordinal_var+'_indexed' for ordinal_var in ordinal_vars]"
   ]
  },
  {
   "cell_type": "markdown",
   "metadata": {},
   "source": [
    "### Categorical transforms"
   ]
  },
  {
   "cell_type": "code",
   "execution_count": 88,
   "metadata": {},
   "outputs": [],
   "source": [
    "cat_indexers = [\n",
    "    StringIndexer(inputCol=cat_var, outputCol=cat_var+'_indexed')\n",
    "    for cat_var in cat_vars\n",
    "]\n",
    "cat_one_hot_encoders = [\n",
    "    OneHotEncoder(inputCol=cat_var+'_indexed', outputCol=cat_var+'_encoded')\n",
    "    for cat_var in cat_vars\n",
    "]\n",
    "cat_pipeline = Pipeline(stages=cat_indexers+cat_one_hot_encoders)\n",
    "df_encoded = cat_pipeline.fit(df_indexed).transform(df_indexed)\n",
    "\n",
    "transformed_cat_vars = [cat_var+'_encoded' for cat_var in cat_vars]"
   ]
  },
  {
   "cell_type": "markdown",
   "metadata": {},
   "source": [
    "### Cyclical transforms"
   ]
  },
  {
   "cell_type": "code",
   "execution_count": 89,
   "metadata": {},
   "outputs": [],
   "source": [
    "from pyspark.sql.functions import sin, cos\n",
    "\n",
    "transformed_cyclical_vars = []\n",
    "for cyclical_var in cyclical_vars:\n",
    "    df_encoded = df_encoded.withColumn(cyclical_var+'_sin', sin(df_encoded[cyclical_var]))\n",
    "    df_encoded = df_encoded.withColumn(cyclical_var+'_cos', cos(df_encoded[cyclical_var]))\n",
    "    transformed_cyclical_vars += [cyclical_var+'_sin', cyclical_var+'_cos']"
   ]
  },
  {
   "cell_type": "markdown",
   "metadata": {},
   "source": [
    "### Continous Features"
   ]
  },
  {
   "cell_type": "code",
   "execution_count": 90,
   "metadata": {},
   "outputs": [],
   "source": [
    "from pyspark.sql.types import FloatType\n",
    "\n",
    "continous_vars = list(set(features).difference(set(cat_vars+ordinal_vars+cyclical_vars)))\n",
    "for column in continous_vars:\n",
    "    df_encoded = df_encoded.withColumn(column, df_encoded[column].cast(FloatType()))"
   ]
  },
  {
   "cell_type": "markdown",
   "metadata": {},
   "source": [
    "### Verify that your code is working as expected"
   ]
  },
  {
   "cell_type": "code",
   "execution_count": 91,
   "metadata": {},
   "outputs": [],
   "source": [
    "assert set(transformed_ordinal_vars).intersection(set(df_encoded.columns)) == set(transformed_ordinal_vars)"
   ]
  },
  {
   "cell_type": "code",
   "execution_count": 92,
   "metadata": {},
   "outputs": [],
   "source": [
    "assert set(transformed_cat_vars).intersection(set(df_encoded.columns)) == set(transformed_cat_vars)"
   ]
  },
  {
   "cell_type": "markdown",
   "metadata": {},
   "source": [
    "### Gather all features"
   ]
  },
  {
   "cell_type": "code",
   "execution_count": 95,
   "metadata": {},
   "outputs": [],
   "source": [
    "transformed_features = transformed_ordinal_vars + transformed_cyclical_vars + transformed_cat_vars + continous_vars\n",
    "\n",
    "df_encoded = df_encoded.select(transformed_features+[label]+['Id'])"
   ]
  },
  {
   "cell_type": "code",
   "execution_count": 96,
   "metadata": {},
   "outputs": [],
   "source": [
    "df_encoded = df_encoded.fillna(0)\n",
    "df_encoded = df_encoded.select([col for col in df_encoded.columns if col!='features'])"
   ]
  },
  {
   "cell_type": "code",
   "execution_count": 97,
   "metadata": {},
   "outputs": [],
   "source": [
    "from pyspark.ml.feature import VectorAssembler\n",
    "\n",
    "assembler = VectorAssembler(inputCols=transformed_features, outputCol='features')\n",
    "df_encoded = assembler.transform(df_encoded)"
   ]
  },
  {
   "cell_type": "code",
   "execution_count": 98,
   "metadata": {},
   "outputs": [],
   "source": [
    "df_encoded = df_encoded.withColumn(label, df_encoded[label].cast(FloatType()))"
   ]
  },
  {
   "cell_type": "markdown",
   "metadata": {},
   "source": [
    "### Train\n",
    "- Split between test & training sets"
   ]
  },
  {
   "cell_type": "code",
   "execution_count": 110,
   "metadata": {},
   "outputs": [],
   "source": [
    "train_df, test_df = df_encoded.randomSplit([0.9,0.1])"
   ]
  },
  {
   "cell_type": "code",
   "execution_count": 113,
   "metadata": {},
   "outputs": [
    {
     "data": {
      "text/plain": [
       "<matplotlib.collections.PathCollection at 0x7fa79f937908>"
      ]
     },
     "execution_count": 113,
     "metadata": {},
     "output_type": "execute_result"
    },
    {
     "data": {
      "image/png": "[encoded data removed]",
      "text/plain": [
       "<matplotlib.figure.Figure at 0x7fa79f09fa90>"
      ]
     },
     "metadata": {},
     "output_type": "display_data"
    }
   ],
   "source": [
    "viz_df = test_df.toPandas()\n",
    "plt.scatter(x=list(range(len(viz_df))), y=list(viz_df['SalePrice']))"
   ]
  },
  {
   "cell_type": "markdown",
   "metadata": {},
   "source": [
    "### Define evaluation metrics\n",
    "- Define couple of evaluation metrics"
   ]
  },
  {
   "cell_type": "code",
   "execution_count": 114,
   "metadata": {},
   "outputs": [],
   "source": [
    "from pyspark.ml.evaluation import RegressionEvaluator\n",
    "\n",
    "rmse_evaluator = RegressionEvaluator(predictionCol='prediction', labelCol=label, metricName='rmse')\n",
    "mae_evaluator = RegressionEvaluator(predictionCol='prediction', labelCol=label, metricName='mae')\n",
    "rmse_evaluator_log = RegressionEvaluator(predictionCol='log_prediction', labelCol='log_label', metricName='rmse')"
   ]
  },
  {
   "cell_type": "markdown",
   "metadata": {},
   "source": [
    "### Linear Regression"
   ]
  },
  {
   "cell_type": "code",
   "execution_count": 117,
   "metadata": {},
   "outputs": [
    {
     "name": "stdout",
     "output_type": "stream",
     "text": [
      "RMSE: 40100.27211621399\n",
      "MAE: 23111.05820768407\n",
      "RMSE log: 0.2095485805356945\n"
     ]
    },
    {
     "data": {
      "text/plain": [
       "<matplotlib.collections.PathCollection at 0x7fa7a1a47780>"
      ]
     },
     "execution_count": 117,
     "metadata": {},
     "output_type": "execute_result"
    },
    {
     "data": {
      "image/png": "[encoded data removed]",
      "text/plain": [
       "<matplotlib.figure.Figure at 0x7fa79fc08160>"
      ]
     },
     "metadata": {},
     "output_type": "display_data"
    }
   ],
   "source": [
    "from pyspark.ml.regression import LinearRegression\n",
    "from pyspark.sql.functions import log\n",
    "\n",
    "lr = LinearRegression(featuresCol='features', labelCol='SalePrice', maxIter=10, regParam=0.3, elasticNetParam=0.8)\n",
    "lr_model = lr.fit(train_df)\n",
    "\n",
    "lr_predictions = lr_model.transform(test_df)\n",
    "lr_predictions = lr_predictions.withColumn('log_label', log(lr_predictions['SalePrice']))\n",
    "lr_predictions = lr_predictions.withColumn('log_prediction', log(lr_predictions['prediction']))\n",
    "\n",
    "\n",
    "lr_rmse = rmse_evaluator.evaluate(lr_predictions)\n",
    "lr_mae = mae_evaluator.evaluate(lr_predictions)\n",
    "lr_rmse_log = rmse_evaluator_log.evaluate(lr_predictions)\n",
    "\n",
    "\n",
    "print ('RMSE: {}'.format(lr_rmse))\n",
    "print ('MAE: {}'.format(lr_mae))\n",
    "print ('RMSE log: {}'.format(lr_rmse_log))\n",
    "\n",
    "lr_predictions_pd = lr_predictions.toPandas()\n",
    "lr_predictions_pd['residuals'] = lr_predictions_pd['SalePrice']-lr_predictions_pd['prediction']\n",
    "plt.scatter(x=list(range(len(lr_predictions_pd))), y=list(lr_predictions_pd['residuals']))"
   ]
  },
  {
   "cell_type": "code",
   "execution_count": 118,
   "metadata": {},
   "outputs": [
    {
     "name": "stdout",
     "output_type": "stream",
     "text": [
      "RMSE: 46272.97086882059\n",
      "MAE: 24483.705546300163\n",
      "RMSE log: 0.3448686332848368\n"
     ]
    },
    {
     "data": {
      "text/plain": [
       "<matplotlib.collections.PathCollection at 0x7fa7a0bdcf60>"
      ]
     },
     "execution_count": 118,
     "metadata": {},
     "output_type": "execute_result"
    },
    {
     "data": {
      "image/png": "[encoded data removed]",
      "text/plain": [
       "<matplotlib.figure.Figure at 0x7fa7a1b0a668>"
      ]
     },
     "metadata": {},
     "output_type": "display_data"
    }
   ],
   "source": [
    "from pyspark.ml.regression import LinearRegression\n",
    "\n",
    "lr_50 = LinearRegression(featuresCol='features', labelCol='SalePrice', maxIter=50, regParam=0.3, elasticNetParam=0.8)\n",
    "lr_model_50 = lr_50.fit(train_df)\n",
    "\n",
    "lr_predictions = lr_model_50.transform(test_df)\n",
    "lr_predictions = lr_predictions.withColumn('log_label', log(lr_predictions['SalePrice']))\n",
    "lr_predictions = lr_predictions.withColumn('log_prediction', log(lr_predictions['prediction']))\n",
    "\n",
    "\n",
    "lr_rmse = rmse_evaluator.evaluate(lr_predictions)\n",
    "lr_mae = mae_evaluator.evaluate(lr_predictions)\n",
    "lr_rmse_log = rmse_evaluator_log.evaluate(lr_predictions)\n",
    "\n",
    "\n",
    "print ('RMSE: {}'.format(lr_rmse))\n",
    "print ('MAE: {}'.format(lr_mae))\n",
    "print ('RMSE log: {}'.format(lr_rmse_log))\n",
    "\n",
    "\n",
    "lr_predictions_pd = lr_predictions.toPandas()\n",
    "lr_predictions_pd['residuals'] = lr_predictions_pd['SalePrice']-lr_predictions_pd['prediction']\n",
    "plt.scatter(x=list(range(len(lr_predictions_pd))), y=list(lr_predictions_pd['residuals']))"
   ]
  },
  {
   "cell_type": "markdown",
   "metadata": {},
   "source": [
    "### XGBoost"
   ]
  },
  {
   "cell_type": "code",
   "execution_count": 119,
   "metadata": {},
   "outputs": [],
   "source": [
    "import spark_tools.ml.xgboost as pyspark_xgboost\n",
    "from pyspark.ml.tuning import CrossValidator, ParamGridBuilder\n",
    "from pyspark.ml.evaluation import RegressionEvaluator"
   ]
  },
  {
   "cell_type": "code",
   "execution_count": 120,
   "metadata": {},
   "outputs": [
    {
     "data": {
      "text/plain": [
       "[<matplotlib.lines.Line2D at 0x7fa7a0066198>]"
      ]
     },
     "execution_count": 120,
     "metadata": {},
     "output_type": "execute_result"
    },
    {
     "data": {
      "image/png": "[encoded data removed]",
      "text/plain": [
       "<matplotlib.figure.Figure at 0x7fa79f8090f0>"
      ]
     },
     "metadata": {},
     "output_type": "display_data"
    }
   ],
   "source": [
    "XGBOOST_HYPERPARAMETERS = {\n",
    "    'featuresCol': 'features',\n",
    "    'labelCol': label, \n",
    "    'predictionCol': \"prediction\",\n",
    "    'objective': 'reg:linear',\n",
    "    'trainTestRatio':0.7,\n",
    "    'max_depth': 32,\n",
    "    'num_round':20,\n",
    "    'early_stopping': 2,\n",
    "}\n",
    "\n",
    "xgboost_estimator = pyspark_xgboost.XGBoost(XGBOOST_HYPERPARAMETERS)\n",
    "xgboost_model = xgboost_estimator.fit(train_df)\n",
    "\n",
    "fig, ax = plt.subplots(nrows=1, ncols=2, figsize=(15,5))\n",
    "ax[0].plot(xgboost_model.training_summary['train'])\n",
    "ax[1].plot(xgboost_model.training_summary['test'])"
   ]
  },
  {
   "cell_type": "code",
   "execution_count": 122,
   "metadata": {},
   "outputs": [
    {
     "name": "stdout",
     "output_type": "stream",
     "text": [
      "RMSE: 27375.537691979654\n",
      "MAE: 18752.20029527559\n",
      "RMSE log: 0.14134120266699998\n"
     ]
    }
   ],
   "source": [
    "xgboost_predictions = xgboost_model.transform(test_df)\n",
    "xgboost_predictions = xgboost_predictions.withColumn('log_label', log(xgboost_predictions['SalePrice']))\n",
    "xgboost_predictions = xgboost_predictions.withColumn('log_prediction', log(xgboost_predictions['prediction']))\n",
    "\n",
    "\n",
    "xgboost_rmse = rmse_evaluator.evaluate(xgboost_predictions)\n",
    "xgboost_mae = mae_evaluator.evaluate(xgboost_predictions)\n",
    "xgboost_log = rmse_evaluator_log.evaluate(xgboost_predictions)\n",
    "\n",
    "print ('RMSE: {}'.format(xgboost_rmse))\n",
    "print ('MAE: {}'.format(xgboost_mae))\n",
    "print ('RMSE log: {}'.format(xgboost_log))"
   ]
  },
  {
   "cell_type": "code",
   "execution_count": 123,
   "metadata": {},
   "outputs": [
    {
     "data": {
      "text/plain": [
       "<matplotlib.collections.PathCollection at 0x7fa79fbd3550>"
      ]
     },
     "execution_count": 123,
     "metadata": {},
     "output_type": "execute_result"
    },
    {
     "data": {
      "image/png": "[encoded data removed]",
      "text/plain": [
       "<matplotlib.figure.Figure at 0x7fa79f3c22e8>"
      ]
     },
     "metadata": {},
     "output_type": "display_data"
    }
   ],
   "source": [
    "xgb_predicts = xgboost_model.transform(train_df).toPandas()\n",
    "xgb_predicts['residuals'] = xgb_predicts['SalePrice']-xgb_predicts['prediction']\n",
    "plt.scatter(x=list(range(len(xgb_predicts))), y=list(xgb_predicts['residuals']))"
   ]
  },
  {
   "cell_type": "markdown",
   "metadata": {},
   "source": [
    "### Can we do better?"
   ]
  },
  {
   "cell_type": "code",
   "execution_count": 124,
   "metadata": {},
   "outputs": [
    {
     "name": "stdout",
     "output_type": "stream",
     "text": [
      "RMSE: 29411.704893327948\n",
      "MAE: 20160.887303149608\n",
      "RMSE log: 0.14569338949922073\n"
     ]
    },
    {
     "data": {
      "image/png": "[encoded data removed]",
      "text/plain": [
       "<matplotlib.figure.Figure at 0x7fa79f803588>"
      ]
     },
     "metadata": {},
     "output_type": "display_data"
    }
   ],
   "source": [
    "XGBOOST_HYPERPARAMETERS = {\n",
    "    'featuresCol': 'features',\n",
    "    'labelCol': label, \n",
    "    'predictionCol': \"prediction\",\n",
    "    'objective': 'reg:linear',\n",
    "    'trainTestRatio':0.7,\n",
    "    'max_depth': 32,\n",
    "    'num_round':100,\n",
    "}\n",
    "\n",
    "xgboost_estimator = pyspark_xgboost.XGBoost(XGBOOST_HYPERPARAMETERS)\n",
    "xgboost_model_1 = xgboost_estimator.fit(train_df)\n",
    "\n",
    "fig, ax = plt.subplots(nrows=1, ncols=2, figsize=(15,5))\n",
    "ax[0].plot(xgboost_model_1.training_summary['train'])\n",
    "ax[1].plot(xgboost_model_1.training_summary['test'])\n",
    "\n",
    "xgboost_predictions = xgboost_model_1.transform(test_df)\n",
    "xgboost_predictions = xgboost_predictions.withColumn('log_label', log(xgboost_predictions['SalePrice']))\n",
    "xgboost_predictions = xgboost_predictions.withColumn('log_prediction', log(xgboost_predictions['prediction']))\n",
    "\n",
    "\n",
    "xgboost_rmse = rmse_evaluator.evaluate(xgboost_predictions)\n",
    "xgboost_mae = mae_evaluator.evaluate(xgboost_predictions)\n",
    "xgboost_log = rmse_evaluator_log.evaluate(xgboost_predictions)\n",
    "\n",
    "print ('RMSE: {}'.format(xgboost_rmse))\n",
    "print ('MAE: {}'.format(xgboost_mae))\n",
    "print ('RMSE log: {}'.format(xgboost_log))"
   ]
  },
  {
   "cell_type": "code",
   "execution_count": 125,
   "metadata": {},
   "outputs": [
    {
     "data": {
      "text/plain": [
       "<matplotlib.collections.PathCollection at 0x7fa79f3f0eb8>"
      ]
     },
     "execution_count": 125,
     "metadata": {},
     "output_type": "execute_result"
    },
    {
     "data": {
      "image/png": "[encoded data removed]",
      "text/plain": [
       "<matplotlib.figure.Figure at 0x7fa7a0689550>"
      ]
     },
     "metadata": {},
     "output_type": "display_data"
    }
   ],
   "source": [
    "xgb_predicts = xgboost_model.transform(train_df).toPandas()\n",
    "xgb_predicts['residuals'] = xgb_predicts['SalePrice']-xgb_predicts['prediction']\n",
    "plt.scatter(x=list(range(len(xgb_predicts))), y=list(xgb_predicts['residuals']))"
   ]
  },
  {
   "cell_type": "markdown",
   "metadata": {},
   "source": [
    "### Hyper-parameter tuning"
   ]
  },
  {
   "cell_type": "code",
   "execution_count": 128,
   "metadata": {},
   "outputs": [
    {
     "name": "stdout",
     "output_type": "stream",
     "text": [
      "RMSE: 27712.796378047835\n",
      "MAE: 19323.69844980315\n",
      "RMSE log: 0.1371144338012056\n"
     ]
    },
    {
     "data": {
      "image/png": "[encoded data removed]",
      "text/plain": [
       "<matplotlib.figure.Figure at 0x7fa79fcd6320>"
      ]
     },
     "metadata": {},
     "output_type": "display_data"
    }
   ],
   "source": [
    "XGBOOST_HYPERPARAMETERS = {\n",
    "    'featuresCol': 'features',\n",
    "    'labelCol': label, \n",
    "    'predictionCol': \"prediction\",\n",
    "    'objective': 'reg:linear',\n",
    "    'trainTestRatio':0.7,\n",
    "    'max_depth': 64,\n",
    "    'num_round':20,\n",
    "    'early_stopping': 2,\n",
    "}\n",
    "\n",
    "xgboost_estimator = pyspark_xgboost.XGBoost(XGBOOST_HYPERPARAMETERS)\n",
    "xgboost_model_2 = xgboost_estimator.fit(train_df)\n",
    "\n",
    "fig, ax = plt.subplots(nrows=1, ncols=2, figsize=(15,5))\n",
    "ax[0].plot(xgboost_model_2.training_summary['train'])\n",
    "ax[1].plot(xgboost_model_2.training_summary['test'])\n",
    "\n",
    "xgboost_predictions = xgboost_model_2.transform(test_df)\n",
    "xgboost_predictions = xgboost_predictions.withColumn('log_label', log(xgboost_predictions['SalePrice']))\n",
    "xgboost_predictions = xgboost_predictions.withColumn('log_prediction', log(xgboost_predictions['prediction']))\n",
    "\n",
    "\n",
    "xgboost_rmse = rmse_evaluator.evaluate(xgboost_predictions)\n",
    "xgboost_mae = mae_evaluator.evaluate(xgboost_predictions)\n",
    "xgboost_log = rmse_evaluator_log.evaluate(xgboost_predictions)\n",
    "\n",
    "print ('RMSE: {}'.format(xgboost_rmse))\n",
    "print ('MAE: {}'.format(xgboost_mae))\n",
    "print ('RMSE log: {}'.format(xgboost_log))"
   ]
  },
  {
   "cell_type": "code",
   "execution_count": 129,
   "metadata": {},
   "outputs": [
    {
     "name": "stdout",
     "output_type": "stream",
     "text": [
      "RMSE: 29732.170257697537\n",
      "MAE: 20189.16744586614\n",
      "RMSE log: 0.1448938569784117\n"
     ]
    },
    {
     "data": {
      "image/png": "[encoded data removed]",
      "text/plain": [
       "<matplotlib.figure.Figure at 0x7fa7a375de48>"
      ]
     },
     "metadata": {},
     "output_type": "display_data"
    }
   ],
   "source": [
    "XGBOOST_HYPERPARAMETERS = {\n",
    "    'featuresCol': 'features',\n",
    "    'labelCol': label, \n",
    "    'predictionCol': \"prediction\",\n",
    "    'objective': 'reg:linear',\n",
    "    'trainTestRatio':0.7,\n",
    "    'max_depth': 64,\n",
    "    'num_round':50,\n",
    "    'early_stopping': 2,\n",
    "}\n",
    "\n",
    "xgboost_estimator = pyspark_xgboost.XGBoost(XGBOOST_HYPERPARAMETERS)\n",
    "xgboost_model_3 = xgboost_estimator.fit(train_df)\n",
    "\n",
    "fig, ax = plt.subplots(nrows=1, ncols=2, figsize=(15,5))\n",
    "ax[0].plot(xgboost_model_3.training_summary['train'])\n",
    "ax[1].plot(xgboost_model_3.training_summary['test'])\n",
    "\n",
    "xgboost_predictions = xgboost_model_3.transform(test_df)\n",
    "xgboost_predictions = xgboost_predictions.withColumn('log_label', log(xgboost_predictions['SalePrice']))\n",
    "xgboost_predictions = xgboost_predictions.withColumn('log_prediction', log(xgboost_predictions['prediction']))\n",
    "\n",
    "\n",
    "xgboost_rmse = rmse_evaluator.evaluate(xgboost_predictions)\n",
    "xgboost_mae = mae_evaluator.evaluate(xgboost_predictions)\n",
    "xgboost_log = rmse_evaluator_log.evaluate(xgboost_predictions)\n",
    "\n",
    "print ('RMSE: {}'.format(xgboost_rmse))\n",
    "print ('MAE: {}'.format(xgboost_mae))\n",
    "print ('RMSE log: {}'.format(xgboost_log))"
   ]
  },
  {
   "cell_type": "code",
   "execution_count": 130,
   "metadata": {},
   "outputs": [
    {
     "data": {
      "text/plain": [
       "<matplotlib.collections.PathCollection at 0x7fa79f5804a8>"
      ]
     },
     "execution_count": 130,
     "metadata": {},
     "output_type": "execute_result"
    },
    {
     "data": {
      "image/png": "[encoded data removed]",
      "text/plain": [
       "<matplotlib.figure.Figure at 0x7fa7a18b35c0>"
      ]
     },
     "metadata": {},
     "output_type": "display_data"
    }
   ],
   "source": [
    "xgb_predicts = xgboost_model.transform(train_df).toPandas()\n",
    "xgb_predicts['residuals'] = xgb_predicts['SalePrice']-xgb_predicts['prediction']\n",
    "plt.scatter(x=list(range(len(xgb_predicts))), y=list(xgb_predicts['residuals']))"
   ]
  },
  {
   "cell_type": "markdown",
   "metadata": {},
   "source": [
    "### What are the top_10 features for our best model?\n",
    "- The below is what our best model says"
   ]
  },
  {
   "cell_type": "code",
   "execution_count": 151,
   "metadata": {},
   "outputs": [
    {
     "data": {
      "text/html": [
       "<div>\n",
       "<style scoped>\n",
       "    .dataframe tbody tr th:only-of-type {\n",
       "        vertical-align: middle;\n",
       "    }\n",
       "\n",
       "    .dataframe tbody tr th {\n",
       "        vertical-align: top;\n",
       "    }\n",
       "\n",
       "    .dataframe thead th {\n",
       "        text-align: right;\n",
       "    }\n",
       "</style>\n",
       "<table border=\"1\" class=\"dataframe\">\n",
       "  <thead>\n",
       "    <tr style=\"text-align: right;\">\n",
       "      <th></th>\n",
       "      <th>idx</th>\n",
       "      <th>name</th>\n",
       "      <th>score</th>\n",
       "    </tr>\n",
       "  </thead>\n",
       "  <tbody>\n",
       "    <tr>\n",
       "      <th>21</th>\n",
       "      <td>21</td>\n",
       "      <td>YearBuilt_sin</td>\n",
       "      <td>117</td>\n",
       "    </tr>\n",
       "    <tr>\n",
       "      <th>22</th>\n",
       "      <td>22</td>\n",
       "      <td>YearBuilt_cos</td>\n",
       "      <td>113</td>\n",
       "    </tr>\n",
       "    <tr>\n",
       "      <th>5</th>\n",
       "      <td>5</td>\n",
       "      <td>BsmtFinType1_indexed</td>\n",
       "      <td>107</td>\n",
       "    </tr>\n",
       "    <tr>\n",
       "      <th>41</th>\n",
       "      <td>190</td>\n",
       "      <td>GrLivArea</td>\n",
       "      <td>102</td>\n",
       "    </tr>\n",
       "    <tr>\n",
       "      <th>55</th>\n",
       "      <td>204</td>\n",
       "      <td>LotArea</td>\n",
       "      <td>102</td>\n",
       "    </tr>\n",
       "    <tr>\n",
       "      <th>4</th>\n",
       "      <td>4</td>\n",
       "      <td>BsmtExposure_indexed</td>\n",
       "      <td>101</td>\n",
       "    </tr>\n",
       "    <tr>\n",
       "      <th>36</th>\n",
       "      <td>185</td>\n",
       "      <td>BsmtFinSF1</td>\n",
       "      <td>96</td>\n",
       "    </tr>\n",
       "    <tr>\n",
       "      <th>38</th>\n",
       "      <td>187</td>\n",
       "      <td>OpenPorchSF</td>\n",
       "      <td>95</td>\n",
       "    </tr>\n",
       "    <tr>\n",
       "      <th>54</th>\n",
       "      <td>203</td>\n",
       "      <td>BsmtUnfSF</td>\n",
       "      <td>94</td>\n",
       "    </tr>\n",
       "    <tr>\n",
       "      <th>23</th>\n",
       "      <td>23</td>\n",
       "      <td>MoSold_sin</td>\n",
       "      <td>94</td>\n",
       "    </tr>\n",
       "  </tbody>\n",
       "</table>\n",
       "</div>"
      ],
      "text/plain": [
       "    idx                  name  score\n",
       "21   21         YearBuilt_sin    117\n",
       "22   22         YearBuilt_cos    113\n",
       "5     5  BsmtFinType1_indexed    107\n",
       "41  190             GrLivArea    102\n",
       "55  204               LotArea    102\n",
       "4     4  BsmtExposure_indexed    101\n",
       "36  185            BsmtFinSF1     96\n",
       "38  187           OpenPorchSF     95\n",
       "54  203             BsmtUnfSF     94\n",
       "23   23            MoSold_sin     94"
      ]
     },
     "execution_count": 151,
     "metadata": {},
     "output_type": "execute_result"
    }
   ],
   "source": [
    "def extract_feature_map(featureImp, dataset, featuresCol):\n",
    "    list_extract = []\n",
    "    for i in dataset.schema[featuresCol].metadata[\"ml_attr\"][\"attrs\"]:\n",
    "        list_extract = list_extract + dataset.schema[featuresCol].metadata[\"ml_attr\"][\"attrs\"][i]\n",
    "    varlist = pd.DataFrame(list_extract)\n",
    "    varlist['score'] = varlist['idx'].apply(lambda x: featureImp['f'+str(x)] if 'f'+str(x) in featureImp else 0)\n",
    "    return(varlist.sort_values('score', ascending = False))\n",
    "\n",
    "extract_feature_map(xgboost_model_2.get_score(), train_df, \"features\").head(10)"
   ]
  },
  {
   "cell_type": "code",
   "execution_count": 152,
   "metadata": {},
   "outputs": [
    {
     "data": {
      "text/html": [
       "<div>\n",
       "<style scoped>\n",
       "    .dataframe tbody tr th:only-of-type {\n",
       "        vertical-align: middle;\n",
       "    }\n",
       "\n",
       "    .dataframe tbody tr th {\n",
       "        vertical-align: top;\n",
       "    }\n",
       "\n",
       "    .dataframe thead th {\n",
       "        text-align: right;\n",
       "    }\n",
       "</style>\n",
       "<table border=\"1\" class=\"dataframe\">\n",
       "  <thead>\n",
       "    <tr style=\"text-align: right;\">\n",
       "      <th></th>\n",
       "      <th>idx</th>\n",
       "      <th>name</th>\n",
       "      <th>score</th>\n",
       "    </tr>\n",
       "  </thead>\n",
       "  <tbody>\n",
       "    <tr>\n",
       "      <th>5</th>\n",
       "      <td>5</td>\n",
       "      <td>BsmtFinType1_indexed</td>\n",
       "      <td>1413</td>\n",
       "    </tr>\n",
       "    <tr>\n",
       "      <th>4</th>\n",
       "      <td>4</td>\n",
       "      <td>BsmtExposure_indexed</td>\n",
       "      <td>1300</td>\n",
       "    </tr>\n",
       "    <tr>\n",
       "      <th>3</th>\n",
       "      <td>3</td>\n",
       "      <td>BsmtQual_indexed</td>\n",
       "      <td>1172</td>\n",
       "    </tr>\n",
       "    <tr>\n",
       "      <th>22</th>\n",
       "      <td>22</td>\n",
       "      <td>YearBuilt_cos</td>\n",
       "      <td>927</td>\n",
       "    </tr>\n",
       "    <tr>\n",
       "      <th>21</th>\n",
       "      <td>21</td>\n",
       "      <td>YearBuilt_sin</td>\n",
       "      <td>844</td>\n",
       "    </tr>\n",
       "    <tr>\n",
       "      <th>23</th>\n",
       "      <td>23</td>\n",
       "      <td>MoSold_sin</td>\n",
       "      <td>831</td>\n",
       "    </tr>\n",
       "    <tr>\n",
       "      <th>1</th>\n",
       "      <td>1</td>\n",
       "      <td>ExterQual_indexed</td>\n",
       "      <td>792</td>\n",
       "    </tr>\n",
       "    <tr>\n",
       "      <th>36</th>\n",
       "      <td>185</td>\n",
       "      <td>BsmtFinSF1</td>\n",
       "      <td>778</td>\n",
       "    </tr>\n",
       "    <tr>\n",
       "      <th>11</th>\n",
       "      <td>11</td>\n",
       "      <td>FireplaceQu_indexed</td>\n",
       "      <td>693</td>\n",
       "    </tr>\n",
       "    <tr>\n",
       "      <th>24</th>\n",
       "      <td>24</td>\n",
       "      <td>MoSold_cos</td>\n",
       "      <td>678</td>\n",
       "    </tr>\n",
       "  </tbody>\n",
       "</table>\n",
       "</div>"
      ],
      "text/plain": [
       "    idx                  name  score\n",
       "5     5  BsmtFinType1_indexed   1413\n",
       "4     4  BsmtExposure_indexed   1300\n",
       "3     3      BsmtQual_indexed   1172\n",
       "22   22         YearBuilt_cos    927\n",
       "21   21         YearBuilt_sin    844\n",
       "23   23            MoSold_sin    831\n",
       "1     1     ExterQual_indexed    792\n",
       "36  185            BsmtFinSF1    778\n",
       "11   11   FireplaceQu_indexed    693\n",
       "24   24            MoSold_cos    678"
      ]
     },
     "execution_count": 152,
     "metadata": {},
     "output_type": "execute_result"
    }
   ],
   "source": [
    "extract_feature_map(xgboost_model_1.get_score(), train_df, \"features\").head(10)"
   ]
  },
  {
   "cell_type": "code",
   "execution_count": 153,
   "metadata": {},
   "outputs": [
    {
     "data": {
      "text/html": [
       "<div>\n",
       "<style scoped>\n",
       "    .dataframe tbody tr th:only-of-type {\n",
       "        vertical-align: middle;\n",
       "    }\n",
       "\n",
       "    .dataframe tbody tr th {\n",
       "        vertical-align: top;\n",
       "    }\n",
       "\n",
       "    .dataframe thead th {\n",
       "        text-align: right;\n",
       "    }\n",
       "</style>\n",
       "<table border=\"1\" class=\"dataframe\">\n",
       "  <thead>\n",
       "    <tr style=\"text-align: right;\">\n",
       "      <th></th>\n",
       "      <th>idx</th>\n",
       "      <th>name</th>\n",
       "      <th>score</th>\n",
       "    </tr>\n",
       "  </thead>\n",
       "  <tbody>\n",
       "    <tr>\n",
       "      <th>38</th>\n",
       "      <td>187</td>\n",
       "      <td>OpenPorchSF</td>\n",
       "      <td>109</td>\n",
       "    </tr>\n",
       "    <tr>\n",
       "      <th>22</th>\n",
       "      <td>22</td>\n",
       "      <td>YearBuilt_cos</td>\n",
       "      <td>108</td>\n",
       "    </tr>\n",
       "    <tr>\n",
       "      <th>5</th>\n",
       "      <td>5</td>\n",
       "      <td>BsmtFinType1_indexed</td>\n",
       "      <td>105</td>\n",
       "    </tr>\n",
       "    <tr>\n",
       "      <th>21</th>\n",
       "      <td>21</td>\n",
       "      <td>YearBuilt_sin</td>\n",
       "      <td>102</td>\n",
       "    </tr>\n",
       "    <tr>\n",
       "      <th>53</th>\n",
       "      <td>202</td>\n",
       "      <td>LotFrontage</td>\n",
       "      <td>102</td>\n",
       "    </tr>\n",
       "    <tr>\n",
       "      <th>23</th>\n",
       "      <td>23</td>\n",
       "      <td>MoSold_sin</td>\n",
       "      <td>99</td>\n",
       "    </tr>\n",
       "    <tr>\n",
       "      <th>41</th>\n",
       "      <td>190</td>\n",
       "      <td>GrLivArea</td>\n",
       "      <td>95</td>\n",
       "    </tr>\n",
       "    <tr>\n",
       "      <th>30</th>\n",
       "      <td>179</td>\n",
       "      <td>TotalBsmtSF</td>\n",
       "      <td>93</td>\n",
       "    </tr>\n",
       "    <tr>\n",
       "      <th>55</th>\n",
       "      <td>204</td>\n",
       "      <td>LotArea</td>\n",
       "      <td>90</td>\n",
       "    </tr>\n",
       "    <tr>\n",
       "      <th>36</th>\n",
       "      <td>185</td>\n",
       "      <td>BsmtFinSF1</td>\n",
       "      <td>89</td>\n",
       "    </tr>\n",
       "  </tbody>\n",
       "</table>\n",
       "</div>"
      ],
      "text/plain": [
       "    idx                  name  score\n",
       "38  187           OpenPorchSF    109\n",
       "22   22         YearBuilt_cos    108\n",
       "5     5  BsmtFinType1_indexed    105\n",
       "21   21         YearBuilt_sin    102\n",
       "53  202           LotFrontage    102\n",
       "23   23            MoSold_sin     99\n",
       "41  190             GrLivArea     95\n",
       "30  179           TotalBsmtSF     93\n",
       "55  204               LotArea     90\n",
       "36  185            BsmtFinSF1     89"
      ]
     },
     "execution_count": 153,
     "metadata": {},
     "output_type": "execute_result"
    }
   ],
   "source": [
    "extract_feature_map(xgboost_model.get_score(), train_df, \"features\").head(10)"
   ]
  },
  {
   "cell_type": "code",
   "execution_count": 154,
   "metadata": {},
   "outputs": [
    {
     "data": {
      "text/html": [
       "<div>\n",
       "<style scoped>\n",
       "    .dataframe tbody tr th:only-of-type {\n",
       "        vertical-align: middle;\n",
       "    }\n",
       "\n",
       "    .dataframe tbody tr th {\n",
       "        vertical-align: top;\n",
       "    }\n",
       "\n",
       "    .dataframe thead th {\n",
       "        text-align: right;\n",
       "    }\n",
       "</style>\n",
       "<table border=\"1\" class=\"dataframe\">\n",
       "  <thead>\n",
       "    <tr style=\"text-align: right;\">\n",
       "      <th></th>\n",
       "      <th>idx</th>\n",
       "      <th>name</th>\n",
       "      <th>score</th>\n",
       "    </tr>\n",
       "  </thead>\n",
       "  <tbody>\n",
       "    <tr>\n",
       "      <th>4</th>\n",
       "      <td>4</td>\n",
       "      <td>BsmtExposure_indexed</td>\n",
       "      <td>636</td>\n",
       "    </tr>\n",
       "    <tr>\n",
       "      <th>5</th>\n",
       "      <td>5</td>\n",
       "      <td>BsmtFinType1_indexed</td>\n",
       "      <td>609</td>\n",
       "    </tr>\n",
       "    <tr>\n",
       "      <th>21</th>\n",
       "      <td>21</td>\n",
       "      <td>YearBuilt_sin</td>\n",
       "      <td>509</td>\n",
       "    </tr>\n",
       "    <tr>\n",
       "      <th>22</th>\n",
       "      <td>22</td>\n",
       "      <td>YearBuilt_cos</td>\n",
       "      <td>466</td>\n",
       "    </tr>\n",
       "    <tr>\n",
       "      <th>1</th>\n",
       "      <td>1</td>\n",
       "      <td>ExterQual_indexed</td>\n",
       "      <td>451</td>\n",
       "    </tr>\n",
       "    <tr>\n",
       "      <th>3</th>\n",
       "      <td>3</td>\n",
       "      <td>BsmtQual_indexed</td>\n",
       "      <td>404</td>\n",
       "    </tr>\n",
       "    <tr>\n",
       "      <th>36</th>\n",
       "      <td>185</td>\n",
       "      <td>BsmtFinSF1</td>\n",
       "      <td>392</td>\n",
       "    </tr>\n",
       "    <tr>\n",
       "      <th>23</th>\n",
       "      <td>23</td>\n",
       "      <td>MoSold_sin</td>\n",
       "      <td>392</td>\n",
       "    </tr>\n",
       "    <tr>\n",
       "      <th>24</th>\n",
       "      <td>24</td>\n",
       "      <td>MoSold_cos</td>\n",
       "      <td>358</td>\n",
       "    </tr>\n",
       "    <tr>\n",
       "      <th>11</th>\n",
       "      <td>11</td>\n",
       "      <td>FireplaceQu_indexed</td>\n",
       "      <td>358</td>\n",
       "    </tr>\n",
       "  </tbody>\n",
       "</table>\n",
       "</div>"
      ],
      "text/plain": [
       "    idx                  name  score\n",
       "4     4  BsmtExposure_indexed    636\n",
       "5     5  BsmtFinType1_indexed    609\n",
       "21   21         YearBuilt_sin    509\n",
       "22   22         YearBuilt_cos    466\n",
       "1     1     ExterQual_indexed    451\n",
       "3     3      BsmtQual_indexed    404\n",
       "36  185            BsmtFinSF1    392\n",
       "23   23            MoSold_sin    392\n",
       "24   24            MoSold_cos    358\n",
       "11   11   FireplaceQu_indexed    358"
      ]
     },
     "execution_count": 154,
     "metadata": {},
     "output_type": "execute_result"
    }
   ],
   "source": [
    "extract_feature_map(xgboost_model_3.get_score(), train_df, \"features\").head(10)"
   ]
  }
 ],
 "metadata": {
  "kernelspec": {
   "display_name": "shwetaj-nowait",
   "language": "python",
   "name": "application"
  },
  "language_info": {
   "codemirror_mode": {
    "name": "ipython",
    "version": 3
   },
   "file_extension": ".py",
   "mimetype": "text/x-python",
   "name": "python",
   "nbconvert_exporter": "python",
   "pygments_lexer": "ipython3",
   "version": "3.6.0"
  }
 },
 "nbformat": 4,
 "nbformat_minor": 2
}
